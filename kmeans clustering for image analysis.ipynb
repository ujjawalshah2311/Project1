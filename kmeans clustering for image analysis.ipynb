{
 "cells": [
  {
   "cell_type": "code",
   "execution_count": 1,
   "metadata": {},
   "outputs": [],
   "source": [
    "import sys\n",
    "import sklearn\n",
    "import matplotlib\n",
    "import numpy as np\n",
    "import matplotlib.pyplot as plt"
   ]
  },
  {
   "cell_type": "code",
   "execution_count": 2,
   "metadata": {},
   "outputs": [
    {
     "ename": "SyntaxError",
     "evalue": "invalid character in identifier (<ipython-input-2-37e6d604d6b4>, line 5)",
     "output_type": "error",
     "traceback": [
      "\u001b[1;36m  File \u001b[1;32m\"<ipython-input-2-37e6d604d6b4>\"\u001b[1;36m, line \u001b[1;32m5\u001b[0m\n\u001b[1;33m    print(‘Training Data: {}’.format(x_train.shape))\u001b[0m\n\u001b[1;37m                  ^\u001b[0m\n\u001b[1;31mSyntaxError\u001b[0m\u001b[1;31m:\u001b[0m invalid character in identifier\n"
     ]
    }
   ],
   "source": [
    "from keras.datasets import mnist\n",
    "\n",
    "(x_train, y_train), (x_test, y_test) = mnist.load_data()\n",
    "\n",
    "print(‘Training Data: {}’.format(x_train.shape))\n",
    "print(‘Training Labels: {}’.format(y_train.shape))\n",
    "\n",
    "Training Data: (60000L, 28L, 28L)\n",
    "Training Labels: (60000L,)\n",
    "\n",
    "print(‘Testing Data: {}’.format(x_test.shape))\n",
    "print(‘Testing Labels: {}’.format(y_test.shape))\n",
    "\n",
    "Testing Data: (10000L, 28L, 28L)\n",
    "Testing Labels: (10000L,)\n",
    "\n",
    "# EDA\n",
    "\n",
    "fig, axs = plt.subplots(3, 3, figsize = (12, 12))\n",
    "plt.gray()\n",
    "\n",
    "for i, ax in enumerate(axs.flat):\n",
    "ax.matshow(x_train[i])\n",
    "ax.axis(‘off’)\n",
    "ax.set_title(‘Number {}’.format(y_train[i]))\n",
    "\n",
    "fig.show()"
   ]
  },
  {
   "cell_type": "code",
   "execution_count": 3,
   "metadata": {
    "scrolled": true
   },
   "outputs": [
    {
     "name": "stderr",
     "output_type": "stream",
     "text": [
      "Using TensorFlow backend.\n"
     ]
    },
    {
     "name": "stdout",
     "output_type": "stream",
     "text": [
      "Downloading data from https://s3.amazonaws.com/img-datasets/mnist.npz\n",
      "11493376/11490434 [==============================] - 133s 12us/step\n",
      "training data:(60000, 28, 28)\n",
      "training labels:(60000,)\n",
      "testing data: (10000, 28, 28)\n",
      "testing labels: (10000,)\n"
     ]
    },
    {
     "name": "stderr",
     "output_type": "stream",
     "text": [
      "C:\\Users\\asus\\Anaconda3\\lib\\site-packages\\ipykernel_launcher.py:24: UserWarning: Matplotlib is currently using module://ipykernel.pylab.backend_inline, which is a non-GUI backend, so cannot show the figure.\n"
     ]
    },
    {
     "data": {
      "image/png": "[encoded data removed]",
      "text/plain": [
       "<Figure size 864x864 with 9 Axes>"
      ]
     },
     "metadata": {
      "needs_background": "light"
     },
     "output_type": "display_data"
    }
   ],
   "source": [
    "from keras.datasets import mnist\n",
    "\n",
    "(x_train,y_train), (x_test,y_test) = mnist.load_data()\n",
    "\n",
    "print('training data:{}'.format(x_train.shape))\n",
    "print('training labels:{}'.format(y_train.shape))\n",
    "\n",
    "print('testing data: {}'.format(x_test.shape))\n",
    "print('testing labels: {}'.format(y_test.shape))\n",
    "\n",
    "import matplotlib.pyplot as plt\n",
    "\n",
    "get_ipython().magic(u'matplotlib inline')\n",
    "\n",
    "\n",
    "fig,axs = plt.subplots(3,3,figsize=(12,12))\n",
    "plt.gray()\n",
    "\n",
    "for i, ax in enumerate(axs.flat):\n",
    "    ax.matshow(x_train[i])\n",
    "    ax.axis('off')\n",
    "    ax.set_title('number {}'.format(y_train[i]))\n",
    "\n",
    "fig.show()"
   ]
  },
  {
   "cell_type": "code",
   "execution_count": 5,
   "metadata": {},
   "outputs": [
    {
     "name": "stdout",
     "output_type": "stream",
     "text": [
      "(60000, 784)\n",
      "(784,)\n",
      "[0.         0.         0.         0.         0.         0.\n",
      " 0.         0.         0.         0.         0.         0.\n",
      " 0.         0.         0.         0.         0.         0.\n",
      " 0.         0.         0.         0.         0.         0.\n",
      " 0.         0.         0.         0.         0.         0.\n",
      " 0.         0.         0.         0.         0.         0.\n",
      " 0.         0.         0.         0.         0.         0.\n",
      " 0.         0.         0.         0.         0.         0.\n",
      " 0.         0.         0.         0.         0.         0.\n",
      " 0.         0.         0.         0.         0.         0.\n",
      " 0.         0.         0.         0.         0.         0.\n",
      " 0.         0.         0.         0.         0.         0.\n",
      " 0.         0.         0.         0.         0.         0.\n",
      " 0.         0.         0.         0.         0.         0.\n",
      " 0.         0.         0.         0.         0.         0.\n",
      " 0.         0.         0.         0.         0.         0.\n",
      " 0.         0.         0.         0.         0.         0.\n",
      " 0.         0.         0.         0.         0.         0.\n",
      " 0.         0.         0.         0.         0.         0.\n",
      " 0.         0.         0.         0.         0.         0.\n",
      " 0.         0.         0.         0.         0.         0.\n",
      " 0.         0.         0.         0.         0.         0.\n",
      " 0.         0.         0.         0.         0.         0.\n",
      " 0.         0.         0.         0.         0.         0.\n",
      " 0.         0.         0.         0.         0.         0.\n",
      " 0.         0.         0.01176471 0.07058824 0.07058824 0.07058824\n",
      " 0.49411765 0.53333333 0.68627451 0.10196078 0.65098039 1.\n",
      " 0.96862745 0.49803922 0.         0.         0.         0.\n",
      " 0.         0.         0.         0.         0.         0.\n",
      " 0.         0.         0.11764706 0.14117647 0.36862745 0.60392157\n",
      " 0.66666667 0.99215686 0.99215686 0.99215686 0.99215686 0.99215686\n",
      " 0.88235294 0.6745098  0.99215686 0.94901961 0.76470588 0.25098039\n",
      " 0.         0.         0.         0.         0.         0.\n",
      " 0.         0.         0.         0.         0.         0.19215686\n",
      " 0.93333333 0.99215686 0.99215686 0.99215686 0.99215686 0.99215686\n",
      " 0.99215686 0.99215686 0.99215686 0.98431373 0.36470588 0.32156863\n",
      " 0.32156863 0.21960784 0.15294118 0.         0.         0.\n",
      " 0.         0.         0.         0.         0.         0.\n",
      " 0.         0.         0.         0.07058824 0.85882353 0.99215686\n",
      " 0.99215686 0.99215686 0.99215686 0.99215686 0.77647059 0.71372549\n",
      " 0.96862745 0.94509804 0.         0.         0.         0.\n",
      " 0.         0.         0.         0.         0.         0.\n",
      " 0.         0.         0.         0.         0.         0.\n",
      " 0.         0.         0.31372549 0.61176471 0.41960784 0.99215686\n",
      " 0.99215686 0.80392157 0.04313725 0.         0.16862745 0.60392157\n",
      " 0.         0.         0.         0.         0.         0.\n",
      " 0.         0.         0.         0.         0.         0.\n",
      " 0.         0.         0.         0.         0.         0.\n",
      " 0.         0.05490196 0.00392157 0.60392157 0.99215686 0.35294118\n",
      " 0.         0.         0.         0.         0.         0.\n",
      " 0.         0.         0.         0.         0.         0.\n",
      " 0.         0.         0.         0.         0.         0.\n",
      " 0.         0.         0.         0.         0.         0.\n",
      " 0.         0.54509804 0.99215686 0.74509804 0.00784314 0.\n",
      " 0.         0.         0.         0.         0.         0.\n",
      " 0.         0.         0.         0.         0.         0.\n",
      " 0.         0.         0.         0.         0.         0.\n",
      " 0.         0.         0.         0.         0.         0.04313725\n",
      " 0.74509804 0.99215686 0.2745098  0.         0.         0.\n",
      " 0.         0.         0.         0.         0.         0.\n",
      " 0.         0.         0.         0.         0.         0.\n",
      " 0.         0.         0.         0.         0.         0.\n",
      " 0.         0.         0.         0.         0.1372549  0.94509804\n",
      " 0.88235294 0.62745098 0.42352941 0.00392157 0.         0.\n",
      " 0.         0.         0.         0.         0.         0.\n",
      " 0.         0.         0.         0.         0.         0.\n",
      " 0.         0.         0.         0.         0.         0.\n",
      " 0.         0.         0.         0.31764706 0.94117647 0.99215686\n",
      " 0.99215686 0.46666667 0.09803922 0.         0.         0.\n",
      " 0.         0.         0.         0.         0.         0.\n",
      " 0.         0.         0.         0.         0.         0.\n",
      " 0.         0.         0.         0.         0.         0.\n",
      " 0.         0.         0.17647059 0.72941176 0.99215686 0.99215686\n",
      " 0.58823529 0.10588235 0.         0.         0.         0.\n",
      " 0.         0.         0.         0.         0.         0.\n",
      " 0.         0.         0.         0.         0.         0.\n",
      " 0.         0.         0.         0.         0.         0.\n",
      " 0.         0.0627451  0.36470588 0.98823529 0.99215686 0.73333333\n",
      " 0.         0.         0.         0.         0.         0.\n",
      " 0.         0.         0.         0.         0.         0.\n",
      " 0.         0.         0.         0.         0.         0.\n",
      " 0.         0.         0.         0.         0.         0.\n",
      " 0.         0.97647059 0.99215686 0.97647059 0.25098039 0.\n",
      " 0.         0.         0.         0.         0.         0.\n",
      " 0.         0.         0.         0.         0.         0.\n",
      " 0.         0.         0.         0.         0.         0.\n",
      " 0.         0.         0.18039216 0.50980392 0.71764706 0.99215686\n",
      " 0.99215686 0.81176471 0.00784314 0.         0.         0.\n",
      " 0.         0.         0.         0.         0.         0.\n",
      " 0.         0.         0.         0.         0.         0.\n",
      " 0.         0.         0.         0.         0.15294118 0.58039216\n",
      " 0.89803922 0.99215686 0.99215686 0.99215686 0.98039216 0.71372549\n",
      " 0.         0.         0.         0.         0.         0.\n",
      " 0.         0.         0.         0.         0.         0.\n",
      " 0.         0.         0.         0.         0.         0.\n",
      " 0.09411765 0.44705882 0.86666667 0.99215686 0.99215686 0.99215686\n",
      " 0.99215686 0.78823529 0.30588235 0.         0.         0.\n",
      " 0.         0.         0.         0.         0.         0.\n",
      " 0.         0.         0.         0.         0.         0.\n",
      " 0.         0.         0.09019608 0.25882353 0.83529412 0.99215686\n",
      " 0.99215686 0.99215686 0.99215686 0.77647059 0.31764706 0.00784314\n",
      " 0.         0.         0.         0.         0.         0.\n",
      " 0.         0.         0.         0.         0.         0.\n",
      " 0.         0.         0.         0.         0.07058824 0.67058824\n",
      " 0.85882353 0.99215686 0.99215686 0.99215686 0.99215686 0.76470588\n",
      " 0.31372549 0.03529412 0.         0.         0.         0.\n",
      " 0.         0.         0.         0.         0.         0.\n",
      " 0.         0.         0.         0.         0.         0.\n",
      " 0.21568627 0.6745098  0.88627451 0.99215686 0.99215686 0.99215686\n",
      " 0.99215686 0.95686275 0.52156863 0.04313725 0.         0.\n",
      " 0.         0.         0.         0.         0.         0.\n",
      " 0.         0.         0.         0.         0.         0.\n",
      " 0.         0.         0.         0.         0.53333333 0.99215686\n",
      " 0.99215686 0.99215686 0.83137255 0.52941176 0.51764706 0.0627451\n",
      " 0.         0.         0.         0.         0.         0.\n",
      " 0.         0.         0.         0.         0.         0.\n",
      " 0.         0.         0.         0.         0.         0.\n",
      " 0.         0.         0.         0.         0.         0.\n",
      " 0.         0.         0.         0.         0.         0.\n",
      " 0.         0.         0.         0.         0.         0.\n",
      " 0.         0.         0.         0.         0.         0.\n",
      " 0.         0.         0.         0.         0.         0.\n",
      " 0.         0.         0.         0.         0.         0.\n",
      " 0.         0.         0.         0.         0.         0.\n",
      " 0.         0.         0.         0.         0.         0.\n",
      " 0.         0.         0.         0.         0.         0.\n",
      " 0.         0.         0.         0.         0.         0.\n",
      " 0.         0.         0.         0.         0.         0.\n",
      " 0.         0.         0.         0.         0.         0.\n",
      " 0.         0.         0.         0.         0.         0.\n",
      " 0.         0.         0.         0.        ]\n"
     ]
    }
   ],
   "source": [
    "X=x_train.reshape(len(x_train),-1)\n",
    "Y=y_train\n",
    "X[0]\n",
    "X=X.astype(float)/255\n",
    "print(X.shape)\n",
    "print(X[0].shape)\n",
    "print(X[0])"
   ]
  },
  {
   "cell_type": "code",
   "execution_count": 9,
   "metadata": {},
   "outputs": [
    {
     "name": "stdout",
     "output_type": "stream",
     "text": [
      "10\n"
     ]
    },
    {
     "data": {
      "text/plain": [
       "array([8, 3, 2, 1, 0, 4, 1, 8, 1, 0, 8, 1, 9, 7, 1, 6, 4, 0, 7, 0])"
      ]
     },
     "execution_count": 9,
     "metadata": {},
     "output_type": "execute_result"
    }
   ],
   "source": [
    "from sklearn.cluster import MiniBatchKMeans\n",
    "n_digits = len(np.unique(y_test))\n",
    "print(n_digits)\n",
    "kmeans = MiniBatchKMeans(n_clusters=n_digits)\n",
    "kmeans.fit(X)\n",
    "kmeans.labels_[:20]"
   ]
  },
  {
   "cell_type": "code",
   "execution_count": 19,
   "metadata": {},
   "outputs": [
    {
     "name": "stdout",
     "output_type": "stream",
     "text": [
      "(1, 3)\n",
      "[3 0 4 1 9 2 1 3 1 9 3 1 3 6 1 7 2 9 6 9]\n",
      "[5 0 4 1 9 2 1 3 1 4 3 5 3 6 1 7 2 8 6 9]\n"
     ]
    }
   ],
   "source": [
    "def infer_cluster_labels(kmeans,actual_labels):\n",
    "    inferred_labels={}\n",
    "    for i in range(kmeans.n_clusters):\n",
    "        labels=[]\n",
    "        index=np.where(kmeans.labels_==i)\n",
    "        labels.append(actual_labels[index])\n",
    "        if len(labels)==0:\n",
    "            counts=np.bincount(labels[0])\n",
    "        else:\n",
    "            counts=np.bincount(np.squeeze(labels))\n",
    "        if np.argmax(counts) in inferred_labels:\n",
    "            inferred_labels[np.argmax(counts)].append(i)\n",
    "        else:\n",
    "            inferred_labels[np.argmax(counts)]=[i]\n",
    "    return inferred_labels\n",
    "\n",
    "array=np.ones((1,3))\n",
    "print(array.shape)\n",
    "np.bincount(np.squeeze(array).astype(np.uint8))\n",
    "\n",
    "def infer_data_labels(x_labels,cluster_labels):\n",
    "    predicted_labels=np.zeros(len(x_labels)).astype(np.uint8)\n",
    "    for i,cluster in enumerate(x_labels):\n",
    "        for key,value in cluster_labels.items():\n",
    "            if cluster in value:\n",
    "                predicted_labels[i]=key\n",
    "    return predicted_labels\n",
    "\n",
    "cluster_labels=infer_cluster_labels(kmeans,Y)\n",
    "X_clusters=kmeans.predict(X)\n",
    "predicted_labels=infer_data_labels(X_clusters,cluster_labels)\n",
    "print(predicted_labels[:20])\n",
    "print(Y[:20])"
   ]
  },
  {
   "cell_type": "code",
   "execution_count": 24,
   "metadata": {},
   "outputs": [
    {
     "name": "stdout",
     "output_type": "stream",
     "text": [
      "number of clusters: 10\n",
      "inertia:2371793.6078107934\n",
      "homogenity:0.4423002145456984\n",
      "accuracy:0.53785\n",
      "\n",
      "number of clusters: 16\n",
      "inertia:2235934.3440440116\n",
      "homogenity:0.5553618296784671\n",
      "accuracy:0.6577666666666667\n",
      "\n",
      "number of clusters: 36\n",
      "inertia:1962220.6888840084\n",
      "homogenity:0.6805786486143802\n",
      "accuracy:0.7560666666666667\n",
      "\n",
      "number of clusters: 64\n",
      "inertia:1808154.110747736\n",
      "homogenity:0.7467852725536629\n",
      "accuracy:0.8163666666666667\n",
      "\n",
      "number of clusters: 144\n",
      "inertia:1631309.3971944987\n",
      "homogenity:0.8054598346307681\n",
      "accuracy:0.8648666666666667\n",
      "\n",
      "number of clusters: 256\n",
      "inertia:1514672.7537530686\n",
      "homogenity:0.8424871509189864\n",
      "accuracy:0.90045\n",
      "\n",
      "testing accuracy:0.8959\n"
     ]
    },
    {
     "name": "stderr",
     "output_type": "stream",
     "text": [
      "C:\\Users\\asus\\Anaconda3\\lib\\site-packages\\ipykernel_launcher.py:40: UserWarning: Matplotlib is currently using module://ipykernel.pylab.backend_inline, which is a non-GUI backend, so cannot show the figure.\n"
     ]
    },
    {
     "data": {
      "image/png": "[encoded data removed]",
      "text/plain": [
       "<Figure size 1440x1440 with 36 Axes>"
      ]
     },
     "metadata": {
      "needs_background": "light"
     },
     "output_type": "display_data"
    }
   ],
   "source": [
    "from sklearn import metrics\n",
    "def calculate_metrics(estimator,data,labels):\n",
    "    print(\"number of clusters: {}\".format(estimator.n_clusters))\n",
    "    print(\"inertia:{}\".format(estimator.inertia_))\n",
    "    print(\"homogenity:{}\".format(metrics.homogeneity_score(labels,estimator.labels_)))\n",
    "clusters=[10,16,36,64,144,256]\n",
    "for n_clusters in clusters:\n",
    "    estimator=MiniBatchKMeans(n_clusters=n_clusters)\n",
    "    estimator.fit(X)\n",
    "    calculate_metrics(estimator,X,Y)\n",
    "    cluster_labels=infer_cluster_labels(estimator,Y)\n",
    "    predicted_Y=infer_data_labels(estimator.labels_,cluster_labels)\n",
    "    print(\"accuracy:{}\\n\".format(metrics.accuracy_score(Y,predicted_Y)))\n",
    "X_test=x_test.reshape(len(x_test),-1)\n",
    "X_test=X_test.astype(float)/255\n",
    "kmeans=MiniBatchKMeans(n_clusters=256)\n",
    "kmeans.fit(X)\n",
    "cluster_labels=infer_cluster_labels(kmeans,Y)\n",
    "test_clusters=kmeans.predict(X_test)\n",
    "predicted_labels=infer_data_labels(test_clusters,cluster_labels)\n",
    "print(\"testing accuracy:{}\".format(metrics.accuracy_score(y_test,predicted_labels)))\n",
    "\n",
    "kmeans=MiniBatchKMeans(n_clusters=36)\n",
    "kmeans.fit(X)\n",
    "centroids=kmeans.cluster_centers_\n",
    "images=centroids.reshape(36,28,28)\n",
    "images+=255\n",
    "images=images.astype(np.uint8)\n",
    "cluster_labels=infer_cluster_labels(kmeans,Y)\n",
    "\n",
    "fig,axs=plt.subplots(6,6,figsize=(20,20))\n",
    "plt.gray()\n",
    "\n",
    "for i,ax in enumerate(axs.flat):\n",
    "    for key,value in cluster_labels.items():\n",
    "        if i in value:\n",
    "            ax.set_title('inferred label:{}'.format(key))\n",
    "    ax.matshow(images[i])\n",
    "    ax.plot('off')\n",
    "fig.show()"
   ]
  }
 ],
 "metadata": {
  "kernelspec": {
   "display_name": "Python 3",
   "language": "python",
   "name": "python3"
  },
  "language_info": {
   "codemirror_mode": {
    "name": "ipython",
    "version": 3
   },
   "file_extension": ".py",
   "mimetype": "text/x-python",
   "name": "python",
   "nbconvert_exporter": "python",
   "pygments_lexer": "ipython3",
   "version": "3.7.4"
  }
 },
 "nbformat": 4,
 "nbformat_minor": 2
}
